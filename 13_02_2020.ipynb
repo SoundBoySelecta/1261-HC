{
 "cells": [
  {
   "cell_type": "markdown",
   "metadata": {},
   "source": [
    "## Import libraries"
   ]
  },
  {
   "cell_type": "code",
   "execution_count": 2,
   "metadata": {},
   "outputs": [],
   "source": [
    "import numpy as np   # import numpy\n",
    "import pandas as pd  # import pandas\n",
    "import os\n",
    "import gc   # for gabage collection\n",
    "import seaborn as sns  # data visualization lib\n",
    "import matplotlib.pyplot as plt\n",
    "import glob \n",
    "import pry\n",
    "from scipy import stats\n",
    "%matplotlib inline"
   ]
  },
  {
   "cell_type": "markdown",
   "metadata": {},
   "source": [
    "<hr  style= \"\n",
    "  display: block; \n",
    "  margin-top: 0.5em; \n",
    "  margin-bottom: 0.5em;\n",
    "  margin-left: auto;\n",
    "  margin-right: auto;\n",
    "  border-style: inset;\n",
    "  border-width: 15px \"/>"
   ]
  },
  {
   "cell_type": "markdown",
   "metadata": {},
   "source": [
    "## Create a few algos for viz so that they can be called anytime\n"
   ]
  },
  {
   "cell_type": "code",
   "execution_count": 2,
   "metadata": {},
   "outputs": [],
   "source": [
    "# some customized function for plotting data\n",
    "def plot_corr(df,cols):\n",
    "    fig = plt.figure(figsize=(10,8))\n",
    "    sns.heatmap(df[cols].corr(),cmap='RdBu_r', annot=True, center=0.0)\n",
    "    plt.show()\n",
    "    \n",
    "def plot_count(df,col,fsize,rotation=None,fillna=True):\n",
    "    fig = plt.figure(figsize=fsize)\n",
    "    if fillna:\n",
    "        value_count = df[col].fillna('unknown').value_counts()\n",
    "    sns.barplot(value_count.index,value_count.values)\n",
    "    plt.xticks(rotation=rotation)\n",
    "    plt.title('value counts for {}'.format(col))\n",
    "    plt.show()"
   ]
  },
  {
   "cell_type": "markdown",
   "metadata": {},
   "source": [
    "<hr  style= \"\n",
    "  display: block; \n",
    "  margin-top: 0.5em; \n",
    "  margin-bottom: 0.5em;\n",
    "  margin-left: auto;\n",
    "  margin-right: auto;\n",
    "  border-style: inset;\n",
    "  border-width: 15px \"/>"
   ]
  },
  {
   "cell_type": "markdown",
   "metadata": {},
   "source": [
    "## Load All Data"
   ]
  },
  {
   "cell_type": "code",
   "execution_count": null,
   "metadata": {},
   "outputs": [],
   "source": [
    "def load_data(path): \n",
    "    return glob.glob(path+\"*.csv\")   "
   ]
  },
  {
   "cell_type": "code",
   "execution_count": null,
   "metadata": {},
   "outputs": [],
   "source": [
    "df_files = load_data('/Users/mega/concordia_courses/1260_ML/home_credit_risk/data/')\n",
    "df_files"
   ]
  },
  {
   "cell_type": "code",
   "execution_count": null,
   "metadata": {},
   "outputs": [],
   "source": [
    "df_names = []\n",
    "for i in range(len(df_files)):\n",
    "    df_names.append('df' + str(i))\n",
    "print(df_names)\n",
    "\n"
   ]
  },
  {
   "cell_type": "code",
   "execution_count": null,
   "metadata": {},
   "outputs": [],
   "source": [
    "all_df = {'df0': df_files[0], 'df1': df_files[1], 'df2': df_files[2], 'df3': df_files[3], 'df4': df_files[4], 'df5': df_files[5], 'df6': df_files[6]}\n",
    "all_df_list = []\n",
    "for key, value in all_df.items():\n",
    "    key = pd.read_csv(value)\n",
    "    all_df_list.append(key)\n",
    "df_pos_cash, df_cc_bal, df_inst_pay, df_app_train, df_burr, df5_prev_app, df_burr_bal = all_df_list[0], all_df_list[1],  all_df_list[2],  all_df_list[3], all_df_list[4],  all_df_list[5],  all_df_list[6]\n",
    "\n"
   ]
  },
  {
   "cell_type": "markdown",
   "metadata": {},
   "source": [
    "<hr  style= \"\n",
    "  display: block; \n",
    "  margin-top: 0.5em; \n",
    "  margin-bottom: 0.5em;\n",
    "  margin-left: auto;\n",
    "  margin-right: auto;\n",
    "  border-style: inset;\n",
    "  border-width: 15px \"/>"
   ]
  },
  {
   "cell_type": "markdown",
   "metadata": {},
   "source": [
    "## Load Single file"
   ]
  },
  {
   "cell_type": "code",
   "execution_count": 3,
   "metadata": {},
   "outputs": [],
   "source": [
    "df_app_train = pd.read_csv('/Users/mega/concordia_courses/1260_ML/home_credit_risk/data/application_train.csv')"
   ]
  },
  {
   "cell_type": "markdown",
   "metadata": {},
   "source": [
    "<hr  style= \"\n",
    "  display: block; \n",
    "  margin-top: 0.5em; \n",
    "  margin-bottom: 0.5em;\n",
    "  margin-left: auto;\n",
    "  margin-right: auto;\n",
    "  border-style: inset;\n",
    "  border-width: 15px \"/>"
   ]
  },
  {
   "cell_type": "markdown",
   "metadata": {},
   "source": [
    "## Memory Stats"
   ]
  },
  {
   "cell_type": "markdown",
   "metadata": {},
   "source": []
  },
  {
   "cell_type": "code",
   "execution_count": 4,
   "metadata": {},
   "outputs": [
    {
     "ename": "NameError",
     "evalue": "name 'total_mem_use' is not defined",
     "output_type": "error",
     "traceback": [
      "\u001b[0;31m---------------------------------------------------------------------------\u001b[0m",
      "\u001b[0;31mNameError\u001b[0m                                 Traceback (most recent call last)",
      "\u001b[0;32m<ipython-input-4-496007b5a2fa>\u001b[0m in \u001b[0;36m<module>\u001b[0;34m\u001b[0m\n\u001b[0;32m----> 1\u001b[0;31m \u001b[0mtotal_mem_use\u001b[0m\u001b[0;34m.\u001b[0m\u001b[0mappend\u001b[0m\u001b[0;34m(\u001b[0m\u001b[0mdf_app_train\u001b[0m\u001b[0;34m.\u001b[0m\u001b[0mmemory_usage\u001b[0m\u001b[0;34m(\u001b[0m\u001b[0;34m)\u001b[0m\u001b[0;34m.\u001b[0m\u001b[0msum\u001b[0m\u001b[0;34m(\u001b[0m\u001b[0;34m)\u001b[0m\u001b[0;34m)\u001b[0m\u001b[0;34m\u001b[0m\u001b[0;34m\u001b[0m\u001b[0m\n\u001b[0m\u001b[1;32m      2\u001b[0m \u001b[0mprint\u001b[0m\u001b[0;34m(\u001b[0m\u001b[0;34m'Total memory usage of df_app_train is {:.2f} MB'\u001b[0m\u001b[0;34m.\u001b[0m\u001b[0mformat\u001b[0m\u001b[0;34m(\u001b[0m\u001b[0msum\u001b[0m\u001b[0;34m(\u001b[0m\u001b[0mtotal_mem_use\u001b[0m\u001b[0;34m)\u001b[0m\u001b[0;34m/\u001b[0m\u001b[0;36m1024\u001b[0m\u001b[0;34m**\u001b[0m\u001b[0;36m2\u001b[0m\u001b[0;34m)\u001b[0m\u001b[0;34m)\u001b[0m\u001b[0;34m\u001b[0m\u001b[0;34m\u001b[0m\u001b[0m\n",
      "\u001b[0;31mNameError\u001b[0m: name 'total_mem_use' is not defined"
     ]
    }
   ],
   "source": []
  },
  {
   "cell_type": "markdown",
   "metadata": {},
   "source": [
    "### Calculate total memory before forcing data types for all dataframes\n"
   ]
  },
  {
   "cell_type": "code",
   "execution_count": 5,
   "metadata": {},
   "outputs": [
    {
     "ename": "NameError",
     "evalue": "name 'all_df_list' is not defined",
     "output_type": "error",
     "traceback": [
      "\u001b[0;31m---------------------------------------------------------------------------\u001b[0m",
      "\u001b[0;31mNameError\u001b[0m                                 Traceback (most recent call last)",
      "\u001b[0;32m<ipython-input-5-efebfd9efc33>\u001b[0m in \u001b[0;36m<module>\u001b[0;34m\u001b[0m\n\u001b[1;32m      1\u001b[0m \u001b[0mtotal_mem_use\u001b[0m \u001b[0;34m=\u001b[0m \u001b[0;34m[\u001b[0m\u001b[0;34m]\u001b[0m\u001b[0;34m\u001b[0m\u001b[0;34m\u001b[0m\u001b[0m\n\u001b[0;32m----> 2\u001b[0;31m \u001b[0;32mfor\u001b[0m \u001b[0mi\u001b[0m \u001b[0;32min\u001b[0m \u001b[0mall_df_list\u001b[0m\u001b[0;34m:\u001b[0m\u001b[0;34m\u001b[0m\u001b[0;34m\u001b[0m\u001b[0m\n\u001b[0m\u001b[1;32m      3\u001b[0m   \u001b[0mtotal_mem_use\u001b[0m\u001b[0;34m.\u001b[0m\u001b[0mappend\u001b[0m\u001b[0;34m(\u001b[0m\u001b[0mi\u001b[0m\u001b[0;34m.\u001b[0m\u001b[0mmemory_usage\u001b[0m\u001b[0;34m(\u001b[0m\u001b[0;34m)\u001b[0m\u001b[0;34m.\u001b[0m\u001b[0msum\u001b[0m\u001b[0;34m(\u001b[0m\u001b[0;34m)\u001b[0m\u001b[0;34m)\u001b[0m\u001b[0;34m\u001b[0m\u001b[0;34m\u001b[0m\u001b[0m\n\u001b[1;32m      4\u001b[0m \u001b[0mprint\u001b[0m\u001b[0;34m(\u001b[0m\u001b[0;34m'Total memory usage of dataframes df0 through df6 are {:.2f} MB'\u001b[0m\u001b[0;34m.\u001b[0m\u001b[0mformat\u001b[0m\u001b[0;34m(\u001b[0m\u001b[0msum\u001b[0m\u001b[0;34m(\u001b[0m\u001b[0mtotal_mem_use\u001b[0m\u001b[0;34m)\u001b[0m\u001b[0;34m/\u001b[0m\u001b[0;36m1024\u001b[0m\u001b[0;34m**\u001b[0m\u001b[0;36m2\u001b[0m\u001b[0;34m)\u001b[0m\u001b[0;34m)\u001b[0m\u001b[0;34m\u001b[0m\u001b[0;34m\u001b[0m\u001b[0m\n",
      "\u001b[0;31mNameError\u001b[0m: name 'all_df_list' is not defined"
     ]
    }
   ],
   "source": [
    "total_mem_use = []\n",
    "for i in all_df_list:\n",
    "  total_mem_use.append(i.memory_usage().sum())\n",
    "print('Total memory usage of dataframes df0 through df6 are {:.2f} MB'.format(sum(total_mem_use)/1024**2))"
   ]
  },
  {
   "cell_type": "markdown",
   "metadata": {},
   "source": [
    "### Calculate total memory before forcing data types for single dataframe"
   ]
  },
  {
   "cell_type": "code",
   "execution_count": 6,
   "metadata": {},
   "outputs": [],
   "source": []
  },
  {
   "cell_type": "code",
   "execution_count": 7,
   "metadata": {},
   "outputs": [
    {
     "name": "stdout",
     "output_type": "stream",
     "text": [
      "Total memory usage of df_app_train is 286.23 MB\n"
     ]
    }
   ],
   "source": [
    "total_mem_use = []\n",
    "total_mem_use.append(df_app_train.memory_usage().sum())\n",
    "print('Total memory usage of df_app_train is {:.2f} MB'.format(sum(total_mem_use)/1024**2))"
   ]
  },
  {
   "cell_type": "markdown",
   "metadata": {},
   "source": [
    "<hr  style= \"\n",
    "  display: block; \n",
    "  margin-top: 0.5em; \n",
    "  margin-bottom: 0.5em;\n",
    "  margin-left: auto;\n",
    "  margin-right: auto;\n",
    "  border-style: inset;\n",
    "  border-width: 15px \"/>"
   ]
  },
  {
   "cell_type": "markdown",
   "metadata": {},
   "source": [
    "## Data Preprocessing"
   ]
  },
  {
   "cell_type": "code",
   "execution_count": 8,
   "metadata": {},
   "outputs": [
    {
     "data": {
      "text/plain": [
       "(307511, 122)"
      ]
     },
     "execution_count": 8,
     "metadata": {},
     "output_type": "execute_result"
    }
   ],
   "source": [
    "df_app_train.shape"
   ]
  },
  {
   "cell_type": "markdown",
   "metadata": {},
   "source": [
    "### Create a dataframe for all missing values with column names and nan count."
   ]
  },
  {
   "cell_type": "code",
   "execution_count": 9,
   "metadata": {},
   "outputs": [
    {
     "data": {
      "text/html": [
       "<div>\n",
       "<style scoped>\n",
       "    .dataframe tbody tr th:only-of-type {\n",
       "        vertical-align: middle;\n",
       "    }\n",
       "\n",
       "    .dataframe tbody tr th {\n",
       "        vertical-align: top;\n",
       "    }\n",
       "\n",
       "    .dataframe thead th {\n",
       "        text-align: right;\n",
       "    }\n",
       "</style>\n",
       "<table border=\"1\" class=\"dataframe\">\n",
       "  <thead>\n",
       "    <tr style=\"text-align: right;\">\n",
       "      <th></th>\n",
       "      <th>col</th>\n",
       "      <th>nan_cnt</th>\n",
       "    </tr>\n",
       "  </thead>\n",
       "  <tbody>\n",
       "    <tr>\n",
       "      <th>9</th>\n",
       "      <td>AMT_ANNUITY</td>\n",
       "      <td>12</td>\n",
       "    </tr>\n",
       "    <tr>\n",
       "      <th>10</th>\n",
       "      <td>AMT_GOODS_PRICE</td>\n",
       "      <td>278</td>\n",
       "    </tr>\n",
       "    <tr>\n",
       "      <th>11</th>\n",
       "      <td>NAME_TYPE_SUITE</td>\n",
       "      <td>1292</td>\n",
       "    </tr>\n",
       "    <tr>\n",
       "      <th>21</th>\n",
       "      <td>OWN_CAR_AGE</td>\n",
       "      <td>202929</td>\n",
       "    </tr>\n",
       "    <tr>\n",
       "      <th>28</th>\n",
       "      <td>OCCUPATION_TYPE</td>\n",
       "      <td>96391</td>\n",
       "    </tr>\n",
       "    <tr>\n",
       "      <th>...</th>\n",
       "      <td>...</td>\n",
       "      <td>...</td>\n",
       "    </tr>\n",
       "    <tr>\n",
       "      <th>117</th>\n",
       "      <td>AMT_REQ_CREDIT_BUREAU_DAY</td>\n",
       "      <td>41519</td>\n",
       "    </tr>\n",
       "    <tr>\n",
       "      <th>118</th>\n",
       "      <td>AMT_REQ_CREDIT_BUREAU_WEEK</td>\n",
       "      <td>41519</td>\n",
       "    </tr>\n",
       "    <tr>\n",
       "      <th>119</th>\n",
       "      <td>AMT_REQ_CREDIT_BUREAU_MON</td>\n",
       "      <td>41519</td>\n",
       "    </tr>\n",
       "    <tr>\n",
       "      <th>120</th>\n",
       "      <td>AMT_REQ_CREDIT_BUREAU_QRT</td>\n",
       "      <td>41519</td>\n",
       "    </tr>\n",
       "    <tr>\n",
       "      <th>121</th>\n",
       "      <td>AMT_REQ_CREDIT_BUREAU_YEAR</td>\n",
       "      <td>41519</td>\n",
       "    </tr>\n",
       "  </tbody>\n",
       "</table>\n",
       "<p>67 rows × 2 columns</p>\n",
       "</div>"
      ],
      "text/plain": [
       "                            col  nan_cnt\n",
       "9                   AMT_ANNUITY       12\n",
       "10              AMT_GOODS_PRICE      278\n",
       "11              NAME_TYPE_SUITE     1292\n",
       "21                  OWN_CAR_AGE   202929\n",
       "28              OCCUPATION_TYPE    96391\n",
       "..                          ...      ...\n",
       "117   AMT_REQ_CREDIT_BUREAU_DAY    41519\n",
       "118  AMT_REQ_CREDIT_BUREAU_WEEK    41519\n",
       "119   AMT_REQ_CREDIT_BUREAU_MON    41519\n",
       "120   AMT_REQ_CREDIT_BUREAU_QRT    41519\n",
       "121  AMT_REQ_CREDIT_BUREAU_YEAR    41519\n",
       "\n",
       "[67 rows x 2 columns]"
      ]
     },
     "execution_count": 9,
     "metadata": {},
     "output_type": "execute_result"
    }
   ],
   "source": [
    "nan_info = pd.DataFrame(df_app_train.isnull().sum()).reset_index()\n",
    "nan_info.columns = ['col','nan_cnt']\n",
    "nan_info[nan_info['nan_cnt'] !=0]\n",
    "\n"
   ]
  },
  {
   "cell_type": "markdown",
   "metadata": {},
   "source": [
    "### Extract all columns names with missing values. So we can itterate."
   ]
  },
  {
   "cell_type": "code",
   "execution_count": 10,
   "metadata": {},
   "outputs": [
    {
     "data": {
      "text/plain": [
       "array(['AMT_ANNUITY', 'AMT_GOODS_PRICE', 'NAME_TYPE_SUITE', 'OWN_CAR_AGE',\n",
       "       'OCCUPATION_TYPE', 'CNT_FAM_MEMBERS', 'EXT_SOURCE_1',\n",
       "       'EXT_SOURCE_2', 'EXT_SOURCE_3', 'APARTMENTS_AVG',\n",
       "       'BASEMENTAREA_AVG', 'YEARS_BEGINEXPLUATATION_AVG',\n",
       "       'YEARS_BUILD_AVG', 'COMMONAREA_AVG', 'ELEVATORS_AVG',\n",
       "       'ENTRANCES_AVG', 'FLOORSMAX_AVG', 'FLOORSMIN_AVG', 'LANDAREA_AVG',\n",
       "       'LIVINGAPARTMENTS_AVG', 'LIVINGAREA_AVG',\n",
       "       'NONLIVINGAPARTMENTS_AVG', 'NONLIVINGAREA_AVG', 'APARTMENTS_MODE',\n",
       "       'BASEMENTAREA_MODE', 'YEARS_BEGINEXPLUATATION_MODE',\n",
       "       'YEARS_BUILD_MODE', 'COMMONAREA_MODE', 'ELEVATORS_MODE',\n",
       "       'ENTRANCES_MODE', 'FLOORSMAX_MODE', 'FLOORSMIN_MODE',\n",
       "       'LANDAREA_MODE', 'LIVINGAPARTMENTS_MODE', 'LIVINGAREA_MODE',\n",
       "       'NONLIVINGAPARTMENTS_MODE', 'NONLIVINGAREA_MODE',\n",
       "       'APARTMENTS_MEDI', 'BASEMENTAREA_MEDI',\n",
       "       'YEARS_BEGINEXPLUATATION_MEDI', 'YEARS_BUILD_MEDI',\n",
       "       'COMMONAREA_MEDI', 'ELEVATORS_MEDI', 'ENTRANCES_MEDI',\n",
       "       'FLOORSMAX_MEDI', 'FLOORSMIN_MEDI', 'LANDAREA_MEDI',\n",
       "       'LIVINGAPARTMENTS_MEDI', 'LIVINGAREA_MEDI',\n",
       "       'NONLIVINGAPARTMENTS_MEDI', 'NONLIVINGAREA_MEDI',\n",
       "       'FONDKAPREMONT_MODE', 'HOUSETYPE_MODE', 'TOTALAREA_MODE',\n",
       "       'WALLSMATERIAL_MODE', 'EMERGENCYSTATE_MODE',\n",
       "       'OBS_30_CNT_SOCIAL_CIRCLE', 'DEF_30_CNT_SOCIAL_CIRCLE',\n",
       "       'OBS_60_CNT_SOCIAL_CIRCLE', 'DEF_60_CNT_SOCIAL_CIRCLE',\n",
       "       'DAYS_LAST_PHONE_CHANGE', 'AMT_REQ_CREDIT_BUREAU_HOUR',\n",
       "       'AMT_REQ_CREDIT_BUREAU_DAY', 'AMT_REQ_CREDIT_BUREAU_WEEK',\n",
       "       'AMT_REQ_CREDIT_BUREAU_MON', 'AMT_REQ_CREDIT_BUREAU_QRT',\n",
       "       'AMT_REQ_CREDIT_BUREAU_YEAR'], dtype=object)"
      ]
     },
     "execution_count": 10,
     "metadata": {},
     "output_type": "execute_result"
    }
   ],
   "source": [
    "cols_with_missing = nan_info.loc[nan_info.nan_cnt>0].col.values\n",
    "cols_with_missing \n"
   ]
  },
  {
   "cell_type": "markdown",
   "metadata": {},
   "source": [
    "### Create a df with missing values"
   ]
  },
  {
   "cell_type": "code",
   "execution_count": 11,
   "metadata": {},
   "outputs": [
    {
     "data": {
      "text/plain": [
       "(307511, 67)"
      ]
     },
     "execution_count": 11,
     "metadata": {},
     "output_type": "execute_result"
    }
   ],
   "source": [
    "df_app_train_missing = pd.DataFrame(df_app_train[cols_with_missing])\n",
    "df_app_train_missing.shape"
   ]
  },
  {
   "cell_type": "markdown",
   "metadata": {},
   "source": [
    "### Remove columns with missing values from orignal df"
   ]
  },
  {
   "cell_type": "code",
   "execution_count": 12,
   "metadata": {},
   "outputs": [
    {
     "data": {
      "text/plain": [
       "(307511, 55)"
      ]
     },
     "execution_count": 12,
     "metadata": {},
     "output_type": "execute_result"
    }
   ],
   "source": [
    "df_app_train.drop(list(cols_with_missing), axis = 1, inplace=True )\n",
    "df_app_train.shape"
   ]
  },
  {
   "cell_type": "markdown",
   "metadata": {},
   "source": [
    "### Create a test df for testing"
   ]
  },
  {
   "cell_type": "code",
   "execution_count": 13,
   "metadata": {},
   "outputs": [
    {
     "data": {
      "text/plain": [
       "(307511, 67)"
      ]
     },
     "execution_count": 13,
     "metadata": {},
     "output_type": "execute_result"
    }
   ],
   "source": [
    "df_test = df_app_train_missing.copy()\n",
    "df_test.shape"
   ]
  },
  {
   "cell_type": "code",
   "execution_count": 31,
   "metadata": {},
   "outputs": [
    {
     "name": "stdout",
     "output_type": "stream",
     "text": [
      "<class 'pandas.core.frame.DataFrame'>\n",
      "RangeIndex: 307511 entries, 0 to 307510\n",
      "Data columns (total 55 columns):\n",
      "SK_ID_CURR                     307511 non-null int64\n",
      "TARGET                         307511 non-null int64\n",
      "NAME_CONTRACT_TYPE             307511 non-null object\n",
      "CODE_GENDER                    307511 non-null object\n",
      "FLAG_OWN_CAR                   307511 non-null object\n",
      "FLAG_OWN_REALTY                307511 non-null object\n",
      "CNT_CHILDREN                   307511 non-null int64\n",
      "AMT_INCOME_TOTAL               307511 non-null float64\n",
      "AMT_CREDIT                     307511 non-null float64\n",
      "NAME_INCOME_TYPE               307511 non-null object\n",
      "NAME_EDUCATION_TYPE            307511 non-null object\n",
      "NAME_FAMILY_STATUS             307511 non-null object\n",
      "NAME_HOUSING_TYPE              307511 non-null object\n",
      "REGION_POPULATION_RELATIVE     307511 non-null float64\n",
      "DAYS_BIRTH                     307511 non-null int64\n",
      "DAYS_EMPLOYED                  307511 non-null int64\n",
      "DAYS_REGISTRATION              307511 non-null float64\n",
      "DAYS_ID_PUBLISH                307511 non-null int64\n",
      "FLAG_MOBIL                     307511 non-null int64\n",
      "FLAG_EMP_PHONE                 307511 non-null int64\n",
      "FLAG_WORK_PHONE                307511 non-null int64\n",
      "FLAG_CONT_MOBILE               307511 non-null int64\n",
      "FLAG_PHONE                     307511 non-null int64\n",
      "FLAG_EMAIL                     307511 non-null int64\n",
      "REGION_RATING_CLIENT           307511 non-null int64\n",
      "REGION_RATING_CLIENT_W_CITY    307511 non-null int64\n",
      "WEEKDAY_APPR_PROCESS_START     307511 non-null object\n",
      "HOUR_APPR_PROCESS_START        307511 non-null int64\n",
      "REG_REGION_NOT_LIVE_REGION     307511 non-null int64\n",
      "REG_REGION_NOT_WORK_REGION     307511 non-null int64\n",
      "LIVE_REGION_NOT_WORK_REGION    307511 non-null int64\n",
      "REG_CITY_NOT_LIVE_CITY         307511 non-null int64\n",
      "REG_CITY_NOT_WORK_CITY         307511 non-null int64\n",
      "LIVE_CITY_NOT_WORK_CITY        307511 non-null int64\n",
      "ORGANIZATION_TYPE              307511 non-null object\n",
      "FLAG_DOCUMENT_2                307511 non-null int64\n",
      "FLAG_DOCUMENT_3                307511 non-null int64\n",
      "FLAG_DOCUMENT_4                307511 non-null int64\n",
      "FLAG_DOCUMENT_5                307511 non-null int64\n",
      "FLAG_DOCUMENT_6                307511 non-null int64\n",
      "FLAG_DOCUMENT_7                307511 non-null int64\n",
      "FLAG_DOCUMENT_8                307511 non-null int64\n",
      "FLAG_DOCUMENT_9                307511 non-null int64\n",
      "FLAG_DOCUMENT_10               307511 non-null int64\n",
      "FLAG_DOCUMENT_11               307511 non-null int64\n",
      "FLAG_DOCUMENT_12               307511 non-null int64\n",
      "FLAG_DOCUMENT_13               307511 non-null int64\n",
      "FLAG_DOCUMENT_14               307511 non-null int64\n",
      "FLAG_DOCUMENT_15               307511 non-null int64\n",
      "FLAG_DOCUMENT_16               307511 non-null int64\n",
      "FLAG_DOCUMENT_17               307511 non-null int64\n",
      "FLAG_DOCUMENT_18               307511 non-null int64\n",
      "FLAG_DOCUMENT_19               307511 non-null int64\n",
      "FLAG_DOCUMENT_20               307511 non-null int64\n",
      "FLAG_DOCUMENT_21               307511 non-null int64\n",
      "dtypes: float64(4), int64(41), object(10)\n",
      "memory usage: 129.0+ MB\n"
     ]
    }
   ],
   "source": [
    "df_app_train.info()\n"
   ]
  },
  {
   "cell_type": "markdown",
   "metadata": {},
   "source": [
    "## Clean dataframe --> identify data type --> force data size --> fill missing values"
   ]
  },
  {
   "cell_type": "code",
   "execution_count": 28,
   "metadata": {},
   "outputs": [
    {
     "name": "stdout",
     "output_type": "stream",
     "text": [
      "There are errors in processing\n"
     ]
    }
   ],
   "source": [
    "#TASK: BETA: Force data type \n",
    "num_stats = {\n",
    "'flt':{ 'flt64_min':np.finfo(np.float64).min, 'flt64_max':np.finfo(np.float64).max, 'flt32_min':np.finfo(np.float32).min,\n",
    "'flt32_max':np.finfo(np.float32).max, 'flt16_min':np.finfo(np.float16).min, 'flt16_max':np.finfo(np.float16).max},\n",
    "'int':\n",
    "{ 'int64_min':np.iinfo(np.int64).min, 'int64_max':np.iinfo(np.int64).max, 'int32_min':np.iinfo(np.int32).min,\n",
    "'int32_max':np.iinfo(np.int32).max, 'int16_min':np.iinfo(np.int16).min, 'int16_max':np.iinfo(np.int16).max, \n",
    "'int8_min':np.iinfo(np.int8).min, 'int8_min':np.iinfo(np.int8).max }\n",
    "}\n",
    "\n",
    "def force_dtype():\n",
    "    if df_test[each_col].dtype in ['int']:\n",
    "    #int8 condition already forced in binary column test\n",
    "    #if col.min() >=  num_stats['int']['int8_min'].min and col.max() <=  num_stats['int']['int8_max'].max:\n",
    "    #    col.astype(np.int8)\n",
    "        if df_test[each_col].min() >=  num_stats['int']['int16_min'] and df_test[each_col].max() <=  num_stats['int']['int16_max']:\n",
    "            df_test[each_col]= df_test[each_col].astype(np.int16)\n",
    "        elif df_test[each_col].min() >=  num_stats['int']['int32_min'] and df_test[each_col].max() <=  num_stats['int']['int32_max']:\n",
    "            df_test[each_col]= df_test[each_col].astype(np.int32)\n",
    "        \n",
    "        else: \n",
    "            #col.min() >=  num_stats['int']['int64_min'].min and col.max() <=  num_stats['int']['int64_max'].max\n",
    "            df_test[each_col]= df_test[each_col].astype(np.int64)\n",
    "    else:\n",
    "    \n",
    "        if df_test[each_col].min() >=  num_stats['flt']['flt16_min'] and df_test[each_col].max() <=  num_stats['flt']['flt16_max']:\n",
    "            df_test[each_col]= df_test[each_col].astype(np.float16)\n",
    "        elif df_test[each_col].min() >=  num_stats['flt']['flt32_min'] and df_test[each_col].max() <=  num_stats['flt']['flt32_max']:\n",
    "            df_test[each_col] =  df_test[each_col].astype(np.float32)\n",
    "            \n",
    "        else: \n",
    "            df_test[each_col]= df_test[each_col].astype(np.float64)\n",
    "\n",
    "\n",
    "all_other_int_col=set()\n",
    "col_int_bin =set()\n",
    "col_obj=set()\n",
    "col_obj_cat=set()\n",
    "col_flt=set()\n",
    "\n",
    "for each_col in df_test.columns:\n",
    "    if df_test[each_col].dtype == 'object':\n",
    "# Count object columns\n",
    "        col_obj.add(each_col)\n",
    "# Fill missing values\n",
    "        df_test[each_col].fillna('unknown', inplace=True)             \n",
    "# identify if column is categorical based on number of unique values (5%)\n",
    "        if df_test[each_col].nunique()/len(df_test[each_col]) <= 0.05:\n",
    "# encode categorical column\n",
    "            df_test_temp = pd.get_dummies(df_test[each_col],prefix=each_col)\n",
    "# add new columns to col_obj_cat, so we can check against full count at end\n",
    "            for each_new_dummy_col in df_test_temp.columns:\n",
    "                col_obj_cat.add(each_new_dummy_col)\n",
    "            \n",
    "    elif df_test[each_col].dtype == 'float64' or df_test[each_col].dtype == 'float32' or df_test[each_col].dtype == 'float16':\n",
    "        df_test[each_col].fillna(df_test[each_col].mean(), inplace=True)\n",
    "        col_flt.add(each_col)\n",
    "        force_dtype()\n",
    "    elif df_test[each_col].dtype == 'int64' or df_test[each_col].dtype == 'int32' or df_test[each_col].dtype == 'int16' or df_test[each_col].dtype == 'int8':\n",
    "# check for binary classification for missing values to -1, and force int8\n",
    "# if the missing values in a column are binary in nature (0 or 1), we do not want median, we want -1        \n",
    "        if df_test[each_col].min() == 0 and df_test[each_col].max() == 1 and df_test[each_col].nunique == 2:\n",
    "            df_test[each_col].fillna(-1, inplace=True)\n",
    "            col_int_bin.add(each_col)\n",
    "            force_dtype()\n",
    "#Else if not binary@int8 then force int16, int32 or int64 and fill missing values with median\n",
    "        else:\n",
    "            df_test[each_col].fillna(df_test[each_col].median(), inplace=True)\n",
    "            all_other_int_col.add(each_col)\n",
    "            force_dtype()\n",
    "df_test_new = pd.concat([df_test, df_test_temp], axis = 1)\n",
    "df_test = pd.concat([df_test, df_test_temp], 1)        \n",
    "\n",
    "\n",
    "# check missing values again and if all data type seperated missing vaule columns and total missing columns    :\n",
    "if df_test.isnull().sum().sum() == 0 and len(col_obj)+ len(col_obj_cat) + len(all_other_int_col) + len(col_int_bin) + len(col_flt) == len(df_test.columns):\n",
    "    print( 'All missing columns seperated by data types filled and accounted for!')\n",
    "else:\n",
    "    print(\"There are errors in processing\")\n",
    "#print(f'object type : {len(col_obj)}, integer type: {len(col_int)}, float type: {len(col_flt)}')   \n",
    "\n",
    "\n",
    "\n",
    "\n"
   ]
  },
  {
   "cell_type": "code",
   "execution_count": 29,
   "metadata": {},
   "outputs": [
    {
     "data": {
      "text/plain": [
       "70"
      ]
     },
     "execution_count": 29,
     "metadata": {},
     "output_type": "execute_result"
    }
   ],
   "source": [
    "len(df_test.columns)"
   ]
  },
  {
   "cell_type": "code",
   "execution_count": 484,
   "metadata": {},
   "outputs": [],
   "source": [
    "for each_col in df_test.columns:\n",
    "    if df_test[each_col].dtype == 'object':\n",
    "\n",
    "# Fill missing values\n",
    "        df_test[each_col].fillna('unknown', inplace=True)             \n",
    "# identify if column is categorical based on number of unique values (5%)\n",
    "        if df_test[each_col].nunique()/len(df_test[each_col]) <= 0.75:\n",
    "# encode categorical column\n",
    "            df_test_temp = pd.get_dummies(df_test[each_col],prefix=each_col)\n",
    "            df_test_new= pd.concat([df_test, df_test_temp], 1)"
   ]
  },
  {
   "cell_type": "code",
   "execution_count": 27,
   "metadata": {},
   "outputs": [],
   "source": [
    "df_test = df_app_train_missing.copy()"
   ]
  },
  {
   "cell_type": "code",
   "execution_count": 1,
   "metadata": {},
   "outputs": [
    {
     "ename": "NameError",
     "evalue": "name 'df_test' is not defined",
     "output_type": "error",
     "traceback": [
      "\u001b[0;31m---------------------------------------------------------------------------\u001b[0m",
      "\u001b[0;31mNameError\u001b[0m                                 Traceback (most recent call last)",
      "\u001b[0;32m<ipython-input-1-0531dc392abd>\u001b[0m in \u001b[0;36m<module>\u001b[0;34m\u001b[0m\n\u001b[0;32m----> 1\u001b[0;31m \u001b[0mdf_test\u001b[0m\u001b[0;34m.\u001b[0m\u001b[0mshape\u001b[0m\u001b[0;34m\u001b[0m\u001b[0;34m\u001b[0m\u001b[0m\n\u001b[0m",
      "\u001b[0;31mNameError\u001b[0m: name 'df_test' is not defined"
     ]
    }
   ],
   "source": [
    "df_test.shape"
   ]
  },
  {
   "cell_type": "code",
   "execution_count": 435,
   "metadata": {},
   "outputs": [
    {
     "data": {
      "text/plain": [
       "9152465"
      ]
     },
     "execution_count": 435,
     "metadata": {},
     "output_type": "execute_result"
    }
   ],
   "source": [
    "#Number of null_values across all columns:\n",
    "df_test.isnull().sum().sum()"
   ]
  },
  {
   "cell_type": "code",
   "execution_count": 436,
   "metadata": {},
   "outputs": [
    {
     "name": "stdout",
     "output_type": "stream",
     "text": [
      "<class 'pandas.core.frame.DataFrame'>\n",
      "RangeIndex: 307511 entries, 0 to 307510\n",
      "Data columns (total 67 columns):\n",
      "AMT_ANNUITY                     307499 non-null float64\n",
      "AMT_GOODS_PRICE                 307233 non-null float64\n",
      "NAME_TYPE_SUITE                 306219 non-null object\n",
      "OWN_CAR_AGE                     104582 non-null float64\n",
      "OCCUPATION_TYPE                 211120 non-null object\n",
      "CNT_FAM_MEMBERS                 307509 non-null float64\n",
      "EXT_SOURCE_1                    134133 non-null float64\n",
      "EXT_SOURCE_2                    306851 non-null float64\n",
      "EXT_SOURCE_3                    246546 non-null float64\n",
      "APARTMENTS_AVG                  151450 non-null float64\n",
      "BASEMENTAREA_AVG                127568 non-null float64\n",
      "YEARS_BEGINEXPLUATATION_AVG     157504 non-null float64\n",
      "YEARS_BUILD_AVG                 103023 non-null float64\n",
      "COMMONAREA_AVG                  92646 non-null float64\n",
      "ELEVATORS_AVG                   143620 non-null float64\n",
      "ENTRANCES_AVG                   152683 non-null float64\n",
      "FLOORSMAX_AVG                   154491 non-null float64\n",
      "FLOORSMIN_AVG                   98869 non-null float64\n",
      "LANDAREA_AVG                    124921 non-null float64\n",
      "LIVINGAPARTMENTS_AVG            97312 non-null float64\n",
      "LIVINGAREA_AVG                  153161 non-null float64\n",
      "NONLIVINGAPARTMENTS_AVG         93997 non-null float64\n",
      "NONLIVINGAREA_AVG               137829 non-null float64\n",
      "APARTMENTS_MODE                 151450 non-null float64\n",
      "BASEMENTAREA_MODE               127568 non-null float64\n",
      "YEARS_BEGINEXPLUATATION_MODE    157504 non-null float64\n",
      "YEARS_BUILD_MODE                103023 non-null float64\n",
      "COMMONAREA_MODE                 92646 non-null float64\n",
      "ELEVATORS_MODE                  143620 non-null float64\n",
      "ENTRANCES_MODE                  152683 non-null float64\n",
      "FLOORSMAX_MODE                  154491 non-null float64\n",
      "FLOORSMIN_MODE                  98869 non-null float64\n",
      "LANDAREA_MODE                   124921 non-null float64\n",
      "LIVINGAPARTMENTS_MODE           97312 non-null float64\n",
      "LIVINGAREA_MODE                 153161 non-null float64\n",
      "NONLIVINGAPARTMENTS_MODE        93997 non-null float64\n",
      "NONLIVINGAREA_MODE              137829 non-null float64\n",
      "APARTMENTS_MEDI                 151450 non-null float64\n",
      "BASEMENTAREA_MEDI               127568 non-null float64\n",
      "YEARS_BEGINEXPLUATATION_MEDI    157504 non-null float64\n",
      "YEARS_BUILD_MEDI                103023 non-null float64\n",
      "COMMONAREA_MEDI                 92646 non-null float64\n",
      "ELEVATORS_MEDI                  143620 non-null float64\n",
      "ENTRANCES_MEDI                  152683 non-null float64\n",
      "FLOORSMAX_MEDI                  154491 non-null float64\n",
      "FLOORSMIN_MEDI                  98869 non-null float64\n",
      "LANDAREA_MEDI                   124921 non-null float64\n",
      "LIVINGAPARTMENTS_MEDI           97312 non-null float64\n",
      "LIVINGAREA_MEDI                 153161 non-null float64\n",
      "NONLIVINGAPARTMENTS_MEDI        93997 non-null float64\n",
      "NONLIVINGAREA_MEDI              137829 non-null float64\n",
      "FONDKAPREMONT_MODE              97216 non-null object\n",
      "HOUSETYPE_MODE                  153214 non-null object\n",
      "TOTALAREA_MODE                  159080 non-null float64\n",
      "WALLSMATERIAL_MODE              151170 non-null object\n",
      "EMERGENCYSTATE_MODE             161756 non-null object\n",
      "OBS_30_CNT_SOCIAL_CIRCLE        306490 non-null float64\n",
      "DEF_30_CNT_SOCIAL_CIRCLE        306490 non-null float64\n",
      "OBS_60_CNT_SOCIAL_CIRCLE        306490 non-null float64\n",
      "DEF_60_CNT_SOCIAL_CIRCLE        306490 non-null float64\n",
      "DAYS_LAST_PHONE_CHANGE          307510 non-null float64\n",
      "AMT_REQ_CREDIT_BUREAU_HOUR      265992 non-null float64\n",
      "AMT_REQ_CREDIT_BUREAU_DAY       265992 non-null float64\n",
      "AMT_REQ_CREDIT_BUREAU_WEEK      265992 non-null float64\n",
      "AMT_REQ_CREDIT_BUREAU_MON       265992 non-null float64\n",
      "AMT_REQ_CREDIT_BUREAU_QRT       265992 non-null float64\n",
      "AMT_REQ_CREDIT_BUREAU_YEAR      265992 non-null float64\n",
      "dtypes: float64(61), object(6)\n",
      "memory usage: 157.2+ MB\n"
     ]
    }
   ],
   "source": [
    "df_test.info()"
   ]
  },
  {
   "cell_type": "code",
   "execution_count": 421,
   "metadata": {},
   "outputs": [
    {
     "data": {
      "text/plain": [
       "9152465"
      ]
     },
     "execution_count": 421,
     "metadata": {},
     "output_type": "execute_result"
    }
   ],
   "source": []
  },
  {
   "cell_type": "code",
   "execution_count": 340,
   "metadata": {},
   "outputs": [
    {
     "data": {
      "text/plain": [
       "[]"
      ]
     },
     "execution_count": 340,
     "metadata": {},
     "output_type": "execute_result"
    }
   ],
   "source": [
    "all_other_int_col"
   ]
  },
  {
   "cell_type": "code",
   "execution_count": 341,
   "metadata": {},
   "outputs": [
    {
     "data": {
      "text/plain": [
       "[]"
      ]
     },
     "execution_count": 341,
     "metadata": {},
     "output_type": "execute_result"
    }
   ],
   "source": [
    "col_int_bin"
   ]
  },
  {
   "cell_type": "code",
   "execution_count": 342,
   "metadata": {},
   "outputs": [
    {
     "data": {
      "text/plain": [
       "[]"
      ]
     },
     "execution_count": 342,
     "metadata": {},
     "output_type": "execute_result"
    }
   ],
   "source": [
    "col_obj"
   ]
  },
  {
   "cell_type": "code",
   "execution_count": 343,
   "metadata": {},
   "outputs": [
    {
     "data": {
      "text/plain": [
       "[]"
      ]
     },
     "execution_count": 343,
     "metadata": {},
     "output_type": "execute_result"
    }
   ],
   "source": [
    "col_flt"
   ]
  },
  {
   "cell_type": "code",
   "execution_count": 417,
   "metadata": {},
   "outputs": [],
   "source": [
    "x =set()"
   ]
  },
  {
   "cell_type": "code",
   "execution_count": 418,
   "metadata": {},
   "outputs": [],
   "source": [
    "\n",
    "x.update([1, 4, 2, 6, 3, 4, 3, 2, 7])"
   ]
  },
  {
   "cell_type": "code",
   "execution_count": 419,
   "metadata": {},
   "outputs": [
    {
     "data": {
      "text/plain": [
       "{1, 2, 3, 4, 6, 7}"
      ]
     },
     "execution_count": 419,
     "metadata": {},
     "output_type": "execute_result"
    }
   ],
   "source": [
    "x"
   ]
  },
  {
   "cell_type": "code",
   "execution_count": null,
   "metadata": {},
   "outputs": [],
   "source": [
    "\n"
   ]
  },
  {
   "cell_type": "code",
   "execution_count": null,
   "metadata": {},
   "outputs": [],
   "source": []
  },
  {
   "cell_type": "code",
   "execution_count": null,
   "metadata": {},
   "outputs": [],
   "source": []
  },
  {
   "cell_type": "code",
   "execution_count": null,
   "metadata": {},
   "outputs": [],
   "source": []
  },
  {
   "cell_type": "code",
   "execution_count": null,
   "metadata": {},
   "outputs": [],
   "source": []
  },
  {
   "cell_type": "code",
   "execution_count": null,
   "metadata": {},
   "outputs": [],
   "source": []
  },
  {
   "cell_type": "markdown",
   "metadata": {},
   "source": [
    "#### WORKING CODE: \n",
    "1) all column dtypes split \\\n",
    "2) all data types sized forced  *** NOT DONE*** \\\n",
    "3) all missing values filled \\\n",
    "4) all categorical columns encoded *** NOT DONE*** \\\n",
    "5) all columns accounted for \\"
   ]
  },
  {
   "cell_type": "code",
   "execution_count": null,
   "metadata": {},
   "outputs": [],
   "source": []
  }
 ],
 "metadata": {
  "kernelspec": {
   "display_name": "Python 3",
   "language": "python",
   "name": "python3"
  },
  "language_info": {
   "codemirror_mode": {
    "name": "ipython",
    "version": 3
   },
   "file_extension": ".py",
   "mimetype": "text/x-python",
   "name": "python",
   "nbconvert_exporter": "python",
   "pygments_lexer": "ipython3",
   "version": "3.7.6"
  }
 },
 "nbformat": 4,
 "nbformat_minor": 4
}
